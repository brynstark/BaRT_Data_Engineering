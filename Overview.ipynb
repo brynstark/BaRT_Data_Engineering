{
 "cells": [
  {
   "cell_type": "markdown",
   "metadata": {},
   "source": [
    "# BaRT : Barely Rapid Transit\n",
    "\n",
    "(No offense. BART is an amazing transportation infrastructure. Actually riding on BART, however, can have its hiccups...)"
   ]
  },
  {
   "cell_type": "markdown",
   "metadata": {},
   "source": [
    "## Bryn Stark\n",
    "\n",
    "July 14, 2016"
   ]
  },
  {
   "cell_type": "markdown",
   "metadata": {},
   "source": [
    "- [Architecture Diagram](#diagram)\n",
    "- [General Flow through the Notebooks](#flow)\n",
    "- [Demo: Matching Tweets and BART Info](#match)\n",
    "- [Future Versions](#future)"
   ]
  },
  {
   "cell_type": "markdown",
   "metadata": {},
   "source": [
    "## Overview\n",
    "\n",
    "This is a final project for my DSCI6007 Data Engineering class. The basic idea is to provide BART riders with a little insight via Tweets that might be relevant to their travels. For example, if there's a Giants game at ATT Park, that may be helpful to know for someone trying to travel from the East Bay into downtown San Francisco. Or, as I'll show in an example, if one's trying to travel to/through downtown Oakland and there's a protest blocking the freeway ([it happened recently](http://abc7news.com/news/all-lanes-of-i-880-in-oakland-reopen-after-protest-blocks-highway/1418202/)), it may be best to take BART instead of driving, but it also helps to be aware that the area may be crowded surrounding the 12th Street Oakland City Center BART station.\n",
    "\n",
    "I used [TwitterAPI](https://github.com/geduldig/TwitterAPI) to stream tweets (for info about the API, see the [Twitter developer page](https://dev.twitter.com/streaming/overview)), and the static [BART API](http://api.bart.gov/docs/sched/routesched.aspx) to gather schedules for different BART routes.\n",
    "\n",
    "This project mainly serves as practice with different Data Engineering technologies, with less of an emphasis on Data Science and analytics."
   ]
  },
  {
   "cell_type": "markdown",
   "metadata": {},
   "source": [
    "<a id='map'></a>"
   ]
  },
  {
   "cell_type": "markdown",
   "metadata": {},
   "source": [
    "\n",
    "\n",
    "<img src='images/bart-map.jpg'>"
   ]
  },
  {
   "cell_type": "markdown",
   "metadata": {},
   "source": [
    "<img src='images/twitter_bird.png'>"
   ]
  },
  {
   "cell_type": "markdown",
   "metadata": {},
   "source": [
    "<a id='diagram'></a>"
   ]
  },
  {
   "cell_type": "markdown",
   "metadata": {},
   "source": [
    "### Architecture Diagram (as it stands now):\n",
    "\n",
    "** ** ** Note: I am fully aware that this is not the optimal data architecture."
   ]
  },
  {
   "cell_type": "markdown",
   "metadata": {
    "collapsed": true
   },
   "source": [
    "<img src='images/architecture_diagram.png'>"
   ]
  },
  {
   "cell_type": "markdown",
   "metadata": {},
   "source": [
    "<a id='flow'></a>"
   ]
  },
  {
   "cell_type": "markdown",
   "metadata": {},
   "source": [
    "## General Flow through the Notebooks:\n",
    "\n",
    "- __Twitter_API_Testing.ipynb__\n",
    "\n",
    "- __Collecting_streaming_tweets.ipynb__ (and __twitter_streaming.py__)\n",
    "\n",
    "- __Gathering_BART_Data.ipynb__\n",
    "\n",
    "- __Loading_BART_Postgres.ipynb__\n",
    "\n",
    "- __Loading_Twitter_Postgres.ipynb__\n",
    "\n",
    "- __Querying_Postgres.ipynb__\n",
    "\n",
    "- __Matching_Tweets_and_BART.ipynb__"
   ]
  },
  {
   "cell_type": "markdown",
   "metadata": {},
   "source": [
    "<a id='match'></a>"
   ]
  },
  {
   "cell_type": "markdown",
   "metadata": {
    "collapsed": true
   },
   "source": [
    "## Go to Matching_Tweets_and_BART.ipynb for Demo"
   ]
  },
  {
   "cell_type": "markdown",
   "metadata": {},
   "source": [
    "<a id='future'></a>"
   ]
  },
  {
   "cell_type": "markdown",
   "metadata": {},
   "source": [
    "## Future Versions\n",
    "\n",
    "- SparkStreaming for real-time processing of Tweets\n",
    "- Use BART's streaming API\n",
    "- Kafka for processing incoming data streams\n",
    "- Shift data storage from Postgres to HDFS (better equipped to handle massive amounts of Twitter data)\n",
    "- Fine-tune Tweet filtering for better capture relevant information for BART riders\n",
    "- Route planning and filtering for relevant BART train times for that day\n",
    "- Vertex planning (per gU instructor Brian Spiering's advice)\n",
    "\n",
    "__...All compiled into a brilliant app with a BART-related Tweet ticker and options for users to query their routes__"
   ]
  }
 ],
 "metadata": {
  "kernelspec": {
   "display_name": "Python 2",
   "language": "python",
   "name": "python2"
  },
  "language_info": {
   "codemirror_mode": {
    "name": "ipython",
    "version": 2
   },
   "file_extension": ".py",
   "mimetype": "text/x-python",
   "name": "python",
   "nbconvert_exporter": "python",
   "pygments_lexer": "ipython2",
   "version": "2.7.12"
  }
 },
 "nbformat": 4,
 "nbformat_minor": 0
}
