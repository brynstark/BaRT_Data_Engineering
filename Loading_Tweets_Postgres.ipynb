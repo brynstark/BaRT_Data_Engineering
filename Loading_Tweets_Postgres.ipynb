{
 "cells": [
  {
   "cell_type": "markdown",
   "metadata": {},
   "source": [
    "# Loading Tweets into Postgres\n",
    "\n",
    "\n",
    "- [Testing the process with psycopg2](#section1)\n",
    "- [Loading all tweets into Postgres](#section2)"
   ]
  },
  {
   "cell_type": "markdown",
   "metadata": {},
   "source": [
    "Assembling the JSON files with the tweets:"
   ]
  },
  {
   "cell_type": "code",
   "execution_count": 1,
   "metadata": {
    "collapsed": true
   },
   "outputs": [],
   "source": [
    "import os"
   ]
  },
  {
   "cell_type": "markdown",
   "metadata": {},
   "source": [
    "<a id='filenames'></a>"
   ]
  },
  {
   "cell_type": "code",
   "execution_count": 91,
   "metadata": {
    "collapsed": false
   },
   "outputs": [
    {
     "name": "stdout",
     "output_type": "stream",
     "text": [
      "['12th st oakland.json', 'bay area.json', 'oakland.json', 'san francisco.json']\n"
     ]
    }
   ],
   "source": [
    "for root, dirs, files in os.walk('/Users/brynstark/Stark gU/DSCI6007-student/FinalProject_BrynStark/tweets/'):\n",
    "    filenames = files\n",
    "print(filenames)"
   ]
  },
  {
   "cell_type": "markdown",
   "metadata": {},
   "source": [
    "<a id='section1'></a>"
   ]
  },
  {
   "cell_type": "markdown",
   "metadata": {},
   "source": [
    "## Testing the process with psycopg2:"
   ]
  },
  {
   "cell_type": "markdown",
   "metadata": {},
   "source": [
    "Mimicking [Psycopg2 Documentation](http://initd.org/psycopg/docs/usage.html)."
   ]
  },
  {
   "cell_type": "code",
   "execution_count": 11,
   "metadata": {
    "collapsed": false
   },
   "outputs": [],
   "source": [
    "import psycopg2 as pg"
   ]
  },
  {
   "cell_type": "code",
   "execution_count": null,
   "metadata": {
    "collapsed": true
   },
   "outputs": [],
   "source": [
    "# Connecting to the Postgres database\n",
    "conn = pg.connect(\"dbname=bart_twitter user=brynstark\")\n",
    "\n",
    "# Cursor allows operations within Postgres db\n",
    "cur = conn.cursor()\n",
    "\n",
    "# To execute Postgres SQL commands:\n",
    "cur.execute(\"CREATE TABLE test (id serial PRIMARY KEY, num integer, data varchar);\")\n",
    "\n",
    "# Make changes to db persistent\n",
    "conn.commit()\n",
    "\n",
    "# Close connection to cursor and Postgres db\n",
    "cur.close()\n",
    "conn.close()"
   ]
  },
  {
   "cell_type": "markdown",
   "metadata": {},
   "source": [
    "Okay, Postgres with Psycopg2 works.\n",
    "\n",
    "Let's take the "
   ]
  },
  {
   "cell_type": "code",
   "execution_count": 2,
   "metadata": {
    "collapsed": false
   },
   "outputs": [
    {
     "name": "stdout",
     "output_type": "stream",
     "text": [
      "<class 'list'>\n"
     ]
    }
   ],
   "source": [
    "with open('tweets/bay area.json') as f:\n",
    "    tweets_lst = f.read().split('\\n')\n",
    "    print(type(tweets_lst))"
   ]
  },
  {
   "cell_type": "code",
   "execution_count": 3,
   "metadata": {
    "collapsed": false
   },
   "outputs": [
    {
     "name": "stdout",
     "output_type": "stream",
     "text": [
      "{\"created_at\":\"Mon Jul 11 02:59:11 +0000 2016\",\"id\":752336404441550848,\"id_str\":\"752336404441550848\",\"text\":\"bay area by my lonely. miss my boo \\ud83d\\ude1e\",\"source\":\"\\u003ca href=\\\"http:\\/\\/twitter.com\\/download\\/iphone\\\" rel=\\\"nofollow\\\"\\u003eTwitter for iPhone\\u003c\\/a\\u003e\",\"truncated\":false,\"in_reply_to_status_id\":null,\"in_reply_to_status_id_str\":null,\"in_reply_to_user_id\":null,\"in_reply_to_user_id_str\":null,\"in_reply_to_screen_name\":null,\"user\":{\"id\":2284778445,\"id_str\":\"2284778445\",\"name\":\"trmami \\u2728\",\"screen_name\":\"jasiglesias\",\"location\":\"MIA \",\"url\":null,\"description\":\"let me share this whole new world with you \\u2728\",\"protected\":false,\"verified\":false,\"followers_count\":677,\"friends_count\":660,\"listed_count\":2,\"favourites_count\":8040,\"statuses_count\":11763,\"created_at\":\"Thu Jan 16 00:12:55 +0000 2014\",\"utc_offset\":-25200,\"time_zone\":\"Arizona\",\"geo_enabled\":true,\"lang\":\"en\",\"contributors_enabled\":false,\"is_translator\":false,\"profile_background_color\":\"C0DEED\",\"profile_background_image_url\":\"http:\\/\\/abs.twimg.com\\/images\\/themes\\/theme1\\/bg.png\",\"profile_background_image_url_https\":\"https:\\/\\/abs.twimg.com\\/images\\/themes\\/theme1\\/bg.png\",\"profile_background_tile\":false,\"profile_link_color\":\"0084B4\",\"profile_sidebar_border_color\":\"000000\",\"profile_sidebar_fill_color\":\"DDEEF6\",\"profile_text_color\":\"333333\",\"profile_use_background_image\":true,\"profile_image_url\":\"http:\\/\\/pbs.twimg.com\\/profile_images\\/750809139140452352\\/kYzNikwN_normal.jpg\",\"profile_image_url_https\":\"https:\\/\\/pbs.twimg.com\\/profile_images\\/750809139140452352\\/kYzNikwN_normal.jpg\",\"profile_banner_url\":\"https:\\/\\/pbs.twimg.com\\/profile_banners\\/2284778445\\/1467841200\",\"default_profile\":false,\"default_profile_image\":false,\"following\":null,\"follow_request_sent\":null,\"notifications\":null},\"geo\":null,\"coordinates\":null,\"place\":null,\"contributors\":null,\"is_quote_status\":false,\"retweet_count\":0,\"favorite_count\":0,\"entities\":{\"hashtags\":[],\"urls\":[],\"user_mentions\":[],\"symbols\":[]},\"favorited\":false,\"retweeted\":false,\"filter_level\":\"low\",\"lang\":\"en\",\"timestamp_ms\":\"1468205951210\"}\n"
     ]
    }
   ],
   "source": [
    "print(tweets_lst[0])"
   ]
  },
  {
   "cell_type": "code",
   "execution_count": 4,
   "metadata": {
    "collapsed": false
   },
   "outputs": [],
   "source": [
    "import json"
   ]
  },
  {
   "cell_type": "code",
   "execution_count": 5,
   "metadata": {
    "collapsed": false
   },
   "outputs": [
    {
     "data": {
      "text/plain": [
       "{'contributors': None,\n",
       " 'coordinates': None,\n",
       " 'created_at': 'Mon Jul 11 02:59:11 +0000 2016',\n",
       " 'entities': {'hashtags': [], 'symbols': [], 'urls': [], 'user_mentions': []},\n",
       " 'favorite_count': 0,\n",
       " 'favorited': False,\n",
       " 'filter_level': 'low',\n",
       " 'geo': None,\n",
       " 'id': 752336404441550848,\n",
       " 'id_str': '752336404441550848',\n",
       " 'in_reply_to_screen_name': None,\n",
       " 'in_reply_to_status_id': None,\n",
       " 'in_reply_to_status_id_str': None,\n",
       " 'in_reply_to_user_id': None,\n",
       " 'in_reply_to_user_id_str': None,\n",
       " 'is_quote_status': False,\n",
       " 'lang': 'en',\n",
       " 'place': None,\n",
       " 'retweet_count': 0,\n",
       " 'retweeted': False,\n",
       " 'source': '<a href=\"http://twitter.com/download/iphone\" rel=\"nofollow\">Twitter for iPhone</a>',\n",
       " 'text': 'bay area by my lonely. miss my boo 😞',\n",
       " 'timestamp_ms': '1468205951210',\n",
       " 'truncated': False,\n",
       " 'user': {'contributors_enabled': False,\n",
       "  'created_at': 'Thu Jan 16 00:12:55 +0000 2014',\n",
       "  'default_profile': False,\n",
       "  'default_profile_image': False,\n",
       "  'description': 'let me share this whole new world with you ✨',\n",
       "  'favourites_count': 8040,\n",
       "  'follow_request_sent': None,\n",
       "  'followers_count': 677,\n",
       "  'following': None,\n",
       "  'friends_count': 660,\n",
       "  'geo_enabled': True,\n",
       "  'id': 2284778445,\n",
       "  'id_str': '2284778445',\n",
       "  'is_translator': False,\n",
       "  'lang': 'en',\n",
       "  'listed_count': 2,\n",
       "  'location': 'MIA ',\n",
       "  'name': 'trmami ✨',\n",
       "  'notifications': None,\n",
       "  'profile_background_color': 'C0DEED',\n",
       "  'profile_background_image_url': 'http://abs.twimg.com/images/themes/theme1/bg.png',\n",
       "  'profile_background_image_url_https': 'https://abs.twimg.com/images/themes/theme1/bg.png',\n",
       "  'profile_background_tile': False,\n",
       "  'profile_banner_url': 'https://pbs.twimg.com/profile_banners/2284778445/1467841200',\n",
       "  'profile_image_url': 'http://pbs.twimg.com/profile_images/750809139140452352/kYzNikwN_normal.jpg',\n",
       "  'profile_image_url_https': 'https://pbs.twimg.com/profile_images/750809139140452352/kYzNikwN_normal.jpg',\n",
       "  'profile_link_color': '0084B4',\n",
       "  'profile_sidebar_border_color': '000000',\n",
       "  'profile_sidebar_fill_color': 'DDEEF6',\n",
       "  'profile_text_color': '333333',\n",
       "  'profile_use_background_image': True,\n",
       "  'protected': False,\n",
       "  'screen_name': 'jasiglesias',\n",
       "  'statuses_count': 11763,\n",
       "  'time_zone': 'Arizona',\n",
       "  'url': None,\n",
       "  'utc_offset': -25200,\n",
       "  'verified': False}}"
      ]
     },
     "execution_count": 5,
     "metadata": {},
     "output_type": "execute_result"
    }
   ],
   "source": [
    "tweet0 = json.loads(tweets_lst[0])\n",
    "tweet0"
   ]
  },
  {
   "cell_type": "code",
   "execution_count": 6,
   "metadata": {
    "collapsed": false
   },
   "outputs": [
    {
     "data": {
      "text/plain": [
       "'Mon Jul 11 02:59:11 +0000 2016'"
      ]
     },
     "execution_count": 6,
     "metadata": {},
     "output_type": "execute_result"
    }
   ],
   "source": [
    "tweet0['created_at']"
   ]
  },
  {
   "cell_type": "code",
   "execution_count": 7,
   "metadata": {
    "collapsed": false
   },
   "outputs": [
    {
     "data": {
      "text/plain": [
       "'bay area by my lonely. miss my boo 😞'"
      ]
     },
     "execution_count": 7,
     "metadata": {},
     "output_type": "execute_result"
    }
   ],
   "source": [
    "tweet0['text']"
   ]
  },
  {
   "cell_type": "code",
   "execution_count": 8,
   "metadata": {
    "collapsed": false
   },
   "outputs": [
    {
     "data": {
      "text/plain": [
       "752336404441550848"
      ]
     },
     "execution_count": 8,
     "metadata": {},
     "output_type": "execute_result"
    }
   ],
   "source": [
    "tweet0['id']"
   ]
  },
  {
   "cell_type": "code",
   "execution_count": 92,
   "metadata": {
    "collapsed": false
   },
   "outputs": [],
   "source": [
    "# Connecting to the Postgres database\n",
    "conn = pg.connect(\"dbname=bart_twitter user=brynstark\")\n",
    "\n",
    "# Cursor allows operations within Postgres db\n",
    "cur = conn.cursor()"
   ]
  },
  {
   "cell_type": "code",
   "execution_count": 93,
   "metadata": {
    "collapsed": false
   },
   "outputs": [],
   "source": [
    "# Creating a table\n",
    "cur.execute('''\n",
    "            CREATE TABLE tweets_data (\n",
    "                data json )''')"
   ]
  },
  {
   "cell_type": "code",
   "execution_count": 80,
   "metadata": {
    "collapsed": false
   },
   "outputs": [],
   "source": [
    "# Inserting a row of JSON to test\n",
    "cur.execute('''\n",
    "            INSERT INTO tweets_data (data)\n",
    "            VALUES (%s)\n",
    "            ''', (tweets_lst[0],))"
   ]
  },
  {
   "cell_type": "code",
   "execution_count": 81,
   "metadata": {
    "collapsed": true
   },
   "outputs": [],
   "source": [
    "# More testing\n",
    "cur.execute('''\n",
    "            INSERT INTO tweets_data (data)\n",
    "            VALUES (%s)\n",
    "            ''', (tweets_lst[1],))"
   ]
  },
  {
   "cell_type": "code",
   "execution_count": 82,
   "metadata": {
    "collapsed": true
   },
   "outputs": [],
   "source": [
    "# More testing\n",
    "cur.execute('''\n",
    "            INSERT INTO tweets_data (data)\n",
    "            VALUES (%s)\n",
    "            ''', (tweets_lst[2],))"
   ]
  },
  {
   "cell_type": "code",
   "execution_count": 86,
   "metadata": {
    "collapsed": true
   },
   "outputs": [],
   "source": [
    "cur.execute(\"SELECT * FROM tweets_data\")"
   ]
  },
  {
   "cell_type": "code",
   "execution_count": 95,
   "metadata": {
    "collapsed": true
   },
   "outputs": [],
   "source": [
    "conn.commit()"
   ]
  },
  {
   "cell_type": "code",
   "execution_count": 89,
   "metadata": {
    "collapsed": false,
    "scrolled": true
   },
   "outputs": [
    {
     "name": "stdout",
     "output_type": "stream",
     "text": [
      "({'id': 752336404441550848, 'favorited': False, 'in_reply_to_user_id_str': None, 'retweeted': False, 'geo': None, 'filter_level': 'low', 'contributors': None, 'in_reply_to_user_id': None, 'is_quote_status': False, 'user': {'id': 2284778445, 'url': None, 'following': None, 'description': 'let me share this whole new world with you ✨', 'profile_background_image_url_https': 'https://abs.twimg.com/images/themes/theme1/bg.png', 'profile_background_color': 'C0DEED', 'profile_image_url_https': 'https://pbs.twimg.com/profile_images/750809139140452352/kYzNikwN_normal.jpg', 'geo_enabled': True, 'profile_banner_url': 'https://pbs.twimg.com/profile_banners/2284778445/1467841200', 'utc_offset': -25200, 'time_zone': 'Arizona', 'profile_use_background_image': True, 'profile_link_color': '0084B4', 'favourites_count': 8040, 'verified': False, 'friends_count': 660, 'follow_request_sent': None, 'default_profile_image': False, 'is_translator': False, 'profile_sidebar_border_color': '000000', 'followers_count': 677, 'screen_name': 'jasiglesias', 'profile_background_tile': False, 'protected': False, 'contributors_enabled': False, 'location': 'MIA ', 'profile_image_url': 'http://pbs.twimg.com/profile_images/750809139140452352/kYzNikwN_normal.jpg', 'lang': 'en', 'default_profile': False, 'created_at': 'Thu Jan 16 00:12:55 +0000 2014', 'listed_count': 2, 'statuses_count': 11763, 'profile_sidebar_fill_color': 'DDEEF6', 'profile_text_color': '333333', 'name': 'trmami ✨', 'profile_background_image_url': 'http://abs.twimg.com/images/themes/theme1/bg.png', 'notifications': None, 'id_str': '2284778445'}, 'source': '<a href=\"http://twitter.com/download/iphone\" rel=\"nofollow\">Twitter for iPhone</a>', 'in_reply_to_status_id_str': None, 'in_reply_to_status_id': None, 'favorite_count': 0, 'place': None, 'text': 'bay area by my lonely. miss my boo 😞', 'lang': 'en', 'created_at': 'Mon Jul 11 02:59:11 +0000 2016', 'retweet_count': 0, 'entities': {'symbols': [], 'user_mentions': [], 'hashtags': [], 'urls': []}, 'coordinates': None, 'truncated': False, 'timestamp_ms': '1468205951210', 'in_reply_to_screen_name': None, 'id_str': '752336404441550848'},)\n",
      "({'id': 752336416198234112, 'favorited': False, 'in_reply_to_user_id_str': None, 'retweeted': False, 'geo': None, 'filter_level': 'low', 'contributors': None, 'in_reply_to_user_id': None, 'is_quote_status': False, 'user': {'id': 94894000, 'url': 'http://www.bestxxxpic.com', 'following': None, 'description': 'Female #escorts. #Outcalls and #Incalls girls. Full #GFE service and #Erotic massage. Find sex in your city.\\nWe #FollowBack #F4F #Follow4Follow', 'profile_background_image_url_https': 'https://pbs.twimg.com/profile_background_images/58020077/ladylookup.jpg', 'profile_background_color': 'F5ABB5', 'profile_image_url_https': 'https://pbs.twimg.com/profile_images/560759251/red-sexy-girl-logo_normal.jpg', 'geo_enabled': False, 'profile_banner_url': 'https://pbs.twimg.com/profile_banners/94894000/1438623728', 'utc_offset': -14400, 'time_zone': 'America/Toronto', 'profile_use_background_image': True, 'profile_link_color': 'DD2E44', 'favourites_count': 10, 'verified': False, 'friends_count': 218, 'follow_request_sent': None, 'default_profile_image': False, 'is_translator': False, 'profile_sidebar_border_color': '212324', 'followers_count': 642, 'screen_name': 'outcallsgirls', 'profile_background_tile': False, 'protected': False, 'contributors_enabled': False, 'location': 'Vancouver Toronto New York', 'profile_image_url': 'http://pbs.twimg.com/profile_images/560759251/red-sexy-girl-logo_normal.jpg', 'lang': 'en', 'default_profile': False, 'created_at': 'Sat Dec 05 23:52:40 +0000 2009', 'listed_count': 90, 'statuses_count': 965945, 'profile_sidebar_fill_color': '373B3D', 'profile_text_color': 'C72510', 'name': 'Femail Escorts - GFE', 'profile_background_image_url': 'http://pbs.twimg.com/profile_background_images/58020077/ladylookup.jpg', 'notifications': None, 'id_str': '94894000'}, 'possibly_sensitive': False, 'source': '<a href=\"http://www.bestxxxpic.com\" rel=\"nofollow\">Best XXX Pics</a>', 'in_reply_to_status_id_str': None, 'in_reply_to_status_id': None, 'favorite_count': 0, 'place': None, 'text': 'New from bay area! jenni jiggles striptease aimed 2please chico escorts #Chico #escorts #adult #xxx https://t.co/RdYfGL9VhS', 'lang': 'en', 'created_at': 'Mon Jul 11 02:59:14 +0000 2016', 'retweet_count': 0, 'entities': {'symbols': [], 'user_mentions': [], 'hashtags': [{'indices': [72, 78], 'text': 'Chico'}, {'indices': [79, 87], 'text': 'escorts'}, {'indices': [88, 94], 'text': 'adult'}, {'indices': [95, 99], 'text': 'xxx'}], 'urls': [{'indices': [100, 123], 'url': 'https://t.co/RdYfGL9VhS', 'expanded_url': 'http://www.bestxxxpic.com/escorts/chico/incalls-gfe-pfe-outcalls.jsp?q=new-from-bay-areajenni-jigglesstriptease-aimed-2please/5536039', 'display_url': 'bestxxxpic.com/escorts/chico/…'}]}, 'coordinates': None, 'truncated': False, 'timestamp_ms': '1468205954013', 'in_reply_to_screen_name': None, 'id_str': '752336416198234112'},)\n",
      "({'id': 752336416814747648, 'retweeted_status': {'id': 752335906783322116, 'favorited': False, 'in_reply_to_user_id_str': None, 'retweeted': False, 'geo': None, 'filter_level': 'low', 'contributors': None, 'in_reply_to_user_id': None, 'is_quote_status': True, 'user': {'id': 162436508, 'url': 'http://www.usprisonculture.com/blog/', 'following': None, 'description': 'Founder Project NIA (@projectnia), Co-Founder (@chitaskforce), (@ChiFreeSchool) & (@chicopwatch) Abolitionist, Educator, Organizer, Hallmark Channel devotee', 'profile_background_image_url_https': 'https://abs.twimg.com/images/themes/theme9/bg.gif', 'profile_background_color': '1A1B1F', 'profile_image_url_https': 'https://pbs.twimg.com/profile_images/745486716077670400/t75MTVol_normal.jpg', 'geo_enabled': True, 'profile_banner_url': 'https://pbs.twimg.com/profile_banners/162436508/1392011759', 'utc_offset': -18000, 'time_zone': 'Central Time (US & Canada)', 'profile_use_background_image': True, 'profile_link_color': '2FC2EF', 'favourites_count': 88081, 'verified': False, 'friends_count': 1246, 'follow_request_sent': None, 'default_profile_image': False, 'is_translator': False, 'profile_sidebar_border_color': '181A1E', 'followers_count': 40183, 'screen_name': 'prisonculture', 'profile_background_tile': False, 'protected': False, 'contributors_enabled': False, 'location': 'Chicago', 'profile_image_url': 'http://pbs.twimg.com/profile_images/745486716077670400/t75MTVol_normal.jpg', 'lang': 'en', 'default_profile': False, 'created_at': 'Sat Jul 03 17:26:16 +0000 2010', 'listed_count': 1202, 'statuses_count': 45224, 'profile_sidebar_fill_color': '252429', 'profile_text_color': '666666', 'name': '#KeepItMoving', 'profile_background_image_url': 'http://abs.twimg.com/images/themes/theme9/bg.gif', 'notifications': None, 'id_str': '162436508'}, 'quoted_status': {'id': 752233324895014912, 'favorited': False, 'in_reply_to_user_id_str': None, 'retweeted': False, 'geo': None, 'filter_level': 'low', 'contributors': None, 'in_reply_to_user_id': None, 'is_quote_status': False, 'user': {'id': 1000908834, 'url': None, 'following': None, 'description': 'Assistant Prof @UMich, Soros Justice Fellow, Director of Prison & Family Justice Project @UMichLaw. #CriminalJustice Advocate, Lawyer, Historian, Teacher.', 'profile_background_image_url_https': 'https://abs.twimg.com/images/themes/theme15/bg.png', 'profile_background_color': '022330', 'profile_image_url_https': 'https://pbs.twimg.com/profile_images/735325522301988869/d4n_2bP0_normal.jpg', 'geo_enabled': False, 'profile_banner_url': 'https://pbs.twimg.com/profile_banners/1000908834/1445834055', 'utc_offset': None, 'time_zone': None, 'profile_use_background_image': True, 'profile_link_color': '0084B4', 'favourites_count': 3333, 'verified': False, 'friends_count': 2113, 'follow_request_sent': None, 'default_profile_image': False, 'is_translator': False, 'profile_sidebar_border_color': 'A8C7F7', 'followers_count': 1431, 'screen_name': 'A_S_Alexander', 'profile_background_tile': False, 'protected': False, 'contributors_enabled': False, 'location': 'Detroit, MI', 'profile_image_url': 'http://pbs.twimg.com/profile_images/735325522301988869/d4n_2bP0_normal.jpg', 'lang': 'en', 'default_profile': False, 'created_at': 'Mon Dec 10 04:42:24 +0000 2012', 'listed_count': 58, 'statuses_count': 3462, 'profile_sidebar_fill_color': 'C0DFEC', 'profile_text_color': '333333', 'name': 'Amanda Alexander', 'profile_background_image_url': 'http://abs.twimg.com/images/themes/theme15/bg.png', 'notifications': None, 'id_str': '1000908834'}, 'possibly_sensitive': False, 'source': '<a href=\"http://mobile.twitter.com\" rel=\"nofollow\">Mobile Web</a>', 'in_reply_to_status_id_str': None, 'in_reply_to_status_id': None, 'favorite_count': 9, 'place': None, 'text': 'So many ways to show up! 26 Ways to Be in the Struggle Beyond the Streets https://t.co/As2g4NMM3M #blacklivesmatter #movementbuilding', 'lang': 'en', 'created_at': 'Sun Jul 10 20:09:35 +0000 2016', 'retweet_count': 7, 'entities': {'symbols': [], 'user_mentions': [], 'hashtags': [{'indices': [98, 115], 'text': 'blacklivesmatter'}, {'indices': [116, 133], 'text': 'movementbuilding'}], 'urls': [{'indices': [74, 97], 'url': 'https://t.co/As2g4NMM3M', 'expanded_url': 'https://issuu.com/nlc.sf.2014/docs/beyondthestreets_final', 'display_url': 'issuu.com/nlc.sf.2014/do…'}]}, 'coordinates': None, 'truncated': False, 'in_reply_to_screen_name': None, 'id_str': '752233324895014912'}, 'possibly_sensitive': False, 'source': '<a href=\"http://twitter.com\" rel=\"nofollow\">Twitter Web Client</a>', 'quoted_status_id_str': '752233324895014912', 'in_reply_to_status_id_str': None, 'quoted_status_id': 752233324895014912, 'in_reply_to_status_id': None, 'favorite_count': 5, 'place': None, 'text': 'Here are some good and useful suggestions. https://t.co/s3XMDxVDE6', 'lang': 'en', 'created_at': 'Mon Jul 11 02:57:12 +0000 2016', 'retweet_count': 3, 'entities': {'symbols': [], 'user_mentions': [], 'hashtags': [], 'urls': [{'indices': [43, 66], 'url': 'https://t.co/s3XMDxVDE6', 'expanded_url': 'https://twitter.com/A_S_Alexander/status/752233324895014912', 'display_url': 'twitter.com/A_S_Alexander/…'}]}, 'coordinates': None, 'truncated': False, 'in_reply_to_screen_name': None, 'id_str': '752335906783322116'}, 'in_reply_to_user_id_str': None, 'retweeted': False, 'geo': None, 'filter_level': 'low', 'contributors': None, 'in_reply_to_user_id': None, 'is_quote_status': True, 'user': {'id': 767, 'url': 'http://xeni.net', 'following': None, 'description': '@boingboing @freedomofpress • journalist • xeni@xeni.net • alive after breast cancer • HH @DalaiLama blessed my dog • i love you', 'profile_background_image_url_https': 'https://pbs.twimg.com/profile_background_images/462391105808388097/MMAmbCWF.jpeg', 'profile_background_color': '000000', 'profile_image_url_https': 'https://pbs.twimg.com/profile_images/736897402196611073/UztS287K_normal.jpg', 'geo_enabled': True, 'profile_banner_url': 'https://pbs.twimg.com/profile_banners/767/1468185737', 'utc_offset': -25200, 'time_zone': 'Pacific Time (US & Canada)', 'profile_use_background_image': True, 'profile_link_color': 'F58EA8', 'favourites_count': 72476, 'verified': True, 'friends_count': 5103, 'follow_request_sent': None, 'default_profile_image': False, 'is_translator': False, 'profile_sidebar_border_color': 'FFFFFF', 'followers_count': 105449, 'screen_name': 'xeni', 'profile_background_tile': True, 'protected': False, 'contributors_enabled': False, 'location': 'where data flows', 'profile_image_url': 'http://pbs.twimg.com/profile_images/736897402196611073/UztS287K_normal.jpg', 'lang': 'en', 'default_profile': False, 'created_at': 'Fri Jul 14 05:49:14 +0000 2006', 'listed_count': 5337, 'statuses_count': 98686, 'profile_sidebar_fill_color': 'DDE3F5', 'profile_text_color': '000000', 'name': 'Xeni Jardin', 'profile_background_image_url': 'http://pbs.twimg.com/profile_background_images/462391105808388097/MMAmbCWF.jpeg', 'notifications': None, 'id_str': '767'}, 'quoted_status': {'id': 752233324895014912, 'favorited': False, 'in_reply_to_user_id_str': None, 'retweeted': False, 'geo': None, 'filter_level': 'low', 'contributors': None, 'in_reply_to_user_id': None, 'is_quote_status': False, 'user': {'id': 1000908834, 'url': None, 'following': None, 'description': 'Assistant Prof @UMich, Soros Justice Fellow, Director of Prison & Family Justice Project @UMichLaw. #CriminalJustice Advocate, Lawyer, Historian, Teacher.', 'profile_background_image_url_https': 'https://abs.twimg.com/images/themes/theme15/bg.png', 'profile_background_color': '022330', 'profile_image_url_https': 'https://pbs.twimg.com/profile_images/735325522301988869/d4n_2bP0_normal.jpg', 'geo_enabled': False, 'profile_banner_url': 'https://pbs.twimg.com/profile_banners/1000908834/1445834055', 'utc_offset': None, 'time_zone': None, 'profile_use_background_image': True, 'profile_link_color': '0084B4', 'favourites_count': 3333, 'verified': False, 'friends_count': 2113, 'follow_request_sent': None, 'default_profile_image': False, 'is_translator': False, 'profile_sidebar_border_color': 'A8C7F7', 'followers_count': 1431, 'screen_name': 'A_S_Alexander', 'profile_background_tile': False, 'protected': False, 'contributors_enabled': False, 'location': 'Detroit, MI', 'profile_image_url': 'http://pbs.twimg.com/profile_images/735325522301988869/d4n_2bP0_normal.jpg', 'lang': 'en', 'default_profile': False, 'created_at': 'Mon Dec 10 04:42:24 +0000 2012', 'listed_count': 58, 'statuses_count': 3462, 'profile_sidebar_fill_color': 'C0DFEC', 'profile_text_color': '333333', 'name': 'Amanda Alexander', 'profile_background_image_url': 'http://abs.twimg.com/images/themes/theme15/bg.png', 'notifications': None, 'id_str': '1000908834'}, 'possibly_sensitive': False, 'source': '<a href=\"http://mobile.twitter.com\" rel=\"nofollow\">Mobile Web</a>', 'in_reply_to_status_id_str': None, 'in_reply_to_status_id': None, 'favorite_count': 9, 'place': None, 'text': 'So many ways to show up! 26 Ways to Be in the Struggle Beyond the Streets https://t.co/As2g4NMM3M #blacklivesmatter #movementbuilding', 'lang': 'en', 'created_at': 'Sun Jul 10 20:09:35 +0000 2016', 'retweet_count': 7, 'entities': {'symbols': [], 'user_mentions': [], 'hashtags': [{'indices': [98, 115], 'text': 'blacklivesmatter'}, {'indices': [116, 133], 'text': 'movementbuilding'}], 'urls': [{'indices': [74, 97], 'url': 'https://t.co/As2g4NMM3M', 'expanded_url': 'https://issuu.com/nlc.sf.2014/docs/beyondthestreets_final', 'display_url': 'issuu.com/nlc.sf.2014/do…'}]}, 'coordinates': None, 'truncated': False, 'in_reply_to_screen_name': None, 'id_str': '752233324895014912'}, 'possibly_sensitive': False, 'source': '<a href=\"http://twitter.com/download/iphone\" rel=\"nofollow\">Twitter for iPhone</a>', 'quoted_status_id_str': '752233324895014912', 'in_reply_to_status_id_str': None, 'quoted_status_id': 752233324895014912, 'in_reply_to_status_id': None, 'favorite_count': 0, 'place': None, 'text': 'RT @prisonculture: Here are some good and useful suggestions. https://t.co/s3XMDxVDE6', 'lang': 'en', 'created_at': 'Mon Jul 11 02:59:14 +0000 2016', 'retweet_count': 0, 'entities': {'symbols': [], 'user_mentions': [{'id': 162436508, 'indices': [3, 17], 'name': '#KeepItMoving', 'screen_name': 'prisonculture', 'id_str': '162436508'}], 'hashtags': [], 'urls': [{'indices': [62, 85], 'url': 'https://t.co/s3XMDxVDE6', 'expanded_url': 'https://twitter.com/A_S_Alexander/status/752233324895014912', 'display_url': 'twitter.com/A_S_Alexander/…'}]}, 'coordinates': None, 'truncated': False, 'favorited': False, 'timestamp_ms': '1468205954160', 'in_reply_to_screen_name': None, 'id_str': '752336416814747648'},)\n"
     ]
    }
   ],
   "source": [
    "# Looking at the results of the query executed above\n",
    "for record in cur:\n",
    "    print(record)"
   ]
  },
  {
   "cell_type": "code",
   "execution_count": 109,
   "metadata": {
    "collapsed": true
   },
   "outputs": [],
   "source": [
    "# Closing connections\n",
    "cur.close()\n",
    "conn.close()"
   ]
  },
  {
   "cell_type": "markdown",
   "metadata": {},
   "source": [
    "Awesome. Now let's get all the tweets in there.\n",
    "\n",
    "After dropping the 'tweets_data' table I just created..."
   ]
  },
  {
   "cell_type": "markdown",
   "metadata": {},
   "source": [
    "<a id='section2'></a>"
   ]
  },
  {
   "cell_type": "markdown",
   "metadata": {},
   "source": [
    "# Loading all tweets into Postgres"
   ]
  },
  {
   "cell_type": "markdown",
   "metadata": {},
   "source": [
    "List of filenames with tweets defined [above](#filenames)."
   ]
  },
  {
   "cell_type": "code",
   "execution_count": 110,
   "metadata": {
    "collapsed": false
   },
   "outputs": [
    {
     "name": "stdout",
     "output_type": "stream",
     "text": [
      "From file: 12th st oakland.json\n",
      "Tweets added 2000\n",
      "Tweets lost 1\n",
      "\n",
      "From file: bay area.json\n",
      "Tweets added 479\n",
      "Tweets lost 1\n",
      "\n",
      "From file: oakland.json\n",
      "Tweets added 2662\n",
      "Tweets lost 1\n",
      "\n",
      "From file: san francisco.json\n",
      "Tweets added 2000\n",
      "Tweets lost 1\n",
      "\n"
     ]
    }
   ],
   "source": [
    "# Connecting to Postgres\n",
    "conn = pg.connect(\"dbname=bart_twitter user=brynstark\")\n",
    "cur = conn.cursor() # Allows us to execute Postgres operations\n",
    "\n",
    "# Creating a table for all the twitter data\n",
    "cur.execute('''\n",
    "            CREATE TABLE tweets_data (\n",
    "                data json )''')\n",
    "\n",
    "# For each of the JSON files with Twitter data\n",
    "for name in filenames:\n",
    "    \n",
    "    tweets_lst = []\n",
    "    path = 'tweets/' + name  # filename.json of tweets\n",
    "    with open(path) as f:\n",
    "        tweets_lst = f.read().split('\\n')  # Splitting up JSON objects, separated by new-line\n",
    "    \n",
    "    counter = 0   # Keep track of tweets added\n",
    "    lost_tweets = 0   # Keep track of tweets lost\n",
    "    for tweet in tweets_lst:\n",
    "        try:\n",
    "            cur.execute('''\n",
    "                        INSERT INTO tweets_data (data)\n",
    "                        VALUES (%s)\n",
    "                        ''', (tweet,))\n",
    "            conn.commit()  #  Committing after each execution makes a difference\n",
    "            counter += 1\n",
    "        except:\n",
    "            lost_tweets += 1  # Keep track of tweets that couldn't be added\n",
    "            continue\n",
    "    print('From file:', name)\n",
    "    print('Tweets added', counter)  # Prints the number of tweets added to DB from current JSON file\n",
    "    print('Tweets lost', lost_tweets)  # Prints tweets not added to DB\n",
    "    print()\n",
    "    conn.commit()  # Better safe than sorry\n",
    "\n",
    "# Closing out connections\n",
    "conn.commit()   # ABC: Always Be Committing\n",
    "cur.close()\n",
    "conn.close()"
   ]
  },
  {
   "cell_type": "markdown",
   "metadata": {},
   "source": [
    "Success!! The single tweet that's \"lost\" for each file is simply the last blank line at the bottom of the file. Perfect!"
   ]
  }
 ],
 "metadata": {
  "kernelspec": {
   "display_name": "Python 3",
   "language": "python",
   "name": "python3"
  },
  "language_info": {
   "codemirror_mode": {
    "name": "ipython",
    "version": 3
   },
   "file_extension": ".py",
   "mimetype": "text/x-python",
   "name": "python",
   "nbconvert_exporter": "python",
   "pygments_lexer": "ipython3",
   "version": "3.5.1"
  }
 },
 "nbformat": 4,
 "nbformat_minor": 0
}
